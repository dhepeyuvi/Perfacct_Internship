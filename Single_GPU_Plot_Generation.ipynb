{
 "cells": [
  {
   "cell_type": "code",
   "execution_count": null,
   "metadata": {},
   "outputs": [],
   "source": [
    "%load_ext autoreload\n",
    "%autoreload 2"
   ]
  },
  {
   "cell_type": "code",
   "execution_count": null,
   "metadata": {},
   "outputs": [],
   "source": [
    "from utility_scripts import utils\n",
    "import os\n",
    "import pandas as pd"
   ]
  },
  {
   "cell_type": "code",
   "execution_count": null,
   "metadata": {},
   "outputs": [],
   "source": [
    "model_name = \"MobileNetV3L\""
   ]
  },
  {
   "cell_type": "code",
   "execution_count": null,
   "metadata": {},
   "outputs": [],
   "source": [
    "# Create Thrpt and Latency plot storing Directories\n",
    "terminal_thr_img_save_folder_path = \"benchmark_results/throughput_plots\"\n",
    "terminal_lat_img_save_folder_path = \"benchmark_results/latency_plots\"\n",
    "jnb_thr_img_save_folder_path = \"benchmark_results/throughput_plots/jnb\"\n",
    "jnb_lat_img_save_folder_path = \"benchmark_results/latency_plots/jnb\"\n",
    "\n",
    "# Create the image save folders if they don't exist\n",
    "os.makedirs(terminal_thr_img_save_folder_path, exist_ok=True)\n",
    "os.makedirs(terminal_lat_img_save_folder_path, exist_ok=True)\n",
    "os.makedirs(jnb_thr_img_save_folder_path, exist_ok = True)\n",
    "os.makedirs(jnb_lat_img_save_folder_path, exist_ok = True)\n",
    "\n",
    "\n",
    "# Create Energy, Power and Time plot storing Directories\n",
    "energy_save_folder_path = \"benchmark_results/energy_plots\"\n",
    "power_save_folder_path = \"benchmark_results/power_plots\"\n",
    "time_save_folder_path = \"benchmark_results/time_plots\"\n",
    "\n",
    "nb_energy_save_folder_path = \"benchmark_results/energy_plots/jnb\"\n",
    "nb_power_save_folder_path = \"benchmark_results/power_plots/jnb\"\n",
    "nb_time_save_folder_path = \"benchmark_results/time_plots/jnb\"\n",
    "os.makedirs(energy_save_folder_path, exist_ok=True)\n",
    "os.makedirs(power_save_folder_path, exist_ok=True)\n",
    "os.makedirs(time_save_folder_path, exist_ok = True)\n",
    "os.makedirs(nb_energy_save_folder_path, exist_ok = True)\n",
    "os.makedirs(nb_power_save_folder_path, exist_ok = True)\n",
    "os.makedirs(nb_time_save_folder_path, exist_ok = True)\n",
    "\n",
    "# Create combined GPU_Wise plots storing Directories\n",
    "combined_csv_path =\"benchmark_results/gpu_plots/combined_csvs\"\n",
    "os.makedirs(combined_csv_path, exist_ok=True)\n",
    "gpus_wise_energy_plot_path = 'benchmark_results/gpu_plots/energy_plots'\n",
    "gpus_wise_energyeff_plot_path = 'benchmark_results/gpu_plots/energy_eff_plots'\n",
    "gpu_wise_time_plot_path = 'benchmark_results/gpu_plots/time_plots'\n",
    "gpu_wise_power_plot_path= 'benchmark_results/gpu_plots/power_plots'\n",
    "gpu_wise_thrpt_plot_path= 'benchmark_results/gpu_plots/throughput_plots'\n",
    "gpu_wise_latency_plot_path= 'benchmark_results/gpu_plots/latency_plots'\n",
    "gpu_wise_energyandtime_plot_path= 'benchmark_results/gpu_plots/energy_x_time_plots'\n",
    "os.makedirs(gpu_wise_time_plot_path, exist_ok=True)\n",
    "os.makedirs(gpus_wise_energy_plot_path, exist_ok=True)\n",
    "os.makedirs(gpus_wise_energyeff_plot_path, exist_ok=True)\n",
    "os.makedirs(gpu_wise_power_plot_path, exist_ok=True)\n",
    "os.makedirs(gpu_wise_thrpt_plot_path, exist_ok=True)\n",
    "os.makedirs(gpu_wise_latency_plot_path, exist_ok=True)\n",
    "os.makedirs(gpu_wise_energyandtime_plot_path, exist_ok=True)\n",
    "\n",
    "# Power vs Thrpt Plot directory\n",
    "power_vs_thrpt_plot_path = \"benchmark_results/Power_Thrpt_plots\"\n",
    "os.makedirs(power_vs_thrpt_plot_path, exist_ok=True)\n"
   ]
  },
  {
   "cell_type": "markdown",
   "metadata": {},
   "source": [
    "## Work Plots"
   ]
  },
  {
   "cell_type": "markdown",
   "metadata": {},
   "source": [
    "### Throughput NB Plot"
   ]
  },
  {
   "cell_type": "code",
   "execution_count": null,
   "metadata": {},
   "outputs": [],
   "source": [
    "uni = False\n",
    "csv_folder_path = f\"benchmark_results/{model_name}/work\""
   ]
  },
  {
   "cell_type": "code",
   "execution_count": null,
   "metadata": {},
   "outputs": [],
   "source": [
    "nb = True\n",
    "fname_suffix = \"Uni\" if uni else \"Work\"\n",
    "fname_suffix  += \"_Jnb\" if nb else \"_Py\"\n",
    "benchmark_col_name = \"Throughput\"\n",
    "img_name = os.path.join(jnb_thr_img_save_folder_path,f\"{model_name}_{benchmark_col_name}_{fname_suffix}.png\")\n",
    "utils.generate_benchmark_plot(\n",
    "    model_name=model_name,\n",
    "    csv_folder_path=csv_folder_path,\n",
    "    uni=uni,\n",
    "    nb=nb,\n",
    "    save_path=img_name,\n",
    "    benchmark_col_name=benchmark_col_name,\n",
    ")"
   ]
  },
  {
   "cell_type": "markdown",
   "metadata": {},
   "source": [
    "### Latency NB Plot"
   ]
  },
  {
   "cell_type": "code",
   "execution_count": null,
   "metadata": {},
   "outputs": [],
   "source": [
    "nb = True\n",
    "fname_suffix = \"Uni\" if uni else \"Work\"\n",
    "fname_suffix  += \"_Jnb\" if nb else \"_Py\"\n",
    "benchmark_col_name = \"Latency\"\n",
    "img_name = os.path.join(jnb_lat_img_save_folder_path,f\"{model_name}_{benchmark_col_name}_{fname_suffix}.png\")\n",
    "utils.generate_benchmark_plot(\n",
    "    model_name=model_name,\n",
    "    csv_folder_path=csv_folder_path,\n",
    "    uni=uni,\n",
    "    nb=nb,\n",
    "    save_path=img_name,\n",
    "    benchmark_col_name=benchmark_col_name,\n",
    ")"
   ]
  },
  {
   "cell_type": "markdown",
   "metadata": {},
   "source": [
    "### Throughput Py Plot"
   ]
  },
  {
   "cell_type": "code",
   "execution_count": null,
   "metadata": {},
   "outputs": [],
   "source": [
    "nb = False\n",
    "fname_suffix = \"Uni\" if uni else \"Work\"\n",
    "fname_suffix  += \"_Jnb\" if nb else \"_Py\"\n",
    "benchmark_col_name = \"Throughput\"\n",
    "img_name = os.path.join(terminal_thr_img_save_folder_path,f\"{model_name}_{benchmark_col_name}_{fname_suffix}.png\")\n",
    "utils.generate_benchmark_plot(\n",
    "    model_name=model_name,\n",
    "    csv_folder_path=csv_folder_path,\n",
    "    uni=uni,\n",
    "    nb=nb,\n",
    "    save_path=img_name,\n",
    "    benchmark_col_name=benchmark_col_name,\n",
    "    invert=False,\n",
    ")"
   ]
  },
  {
   "cell_type": "markdown",
   "metadata": {},
   "source": [
    "### Latency Py Plot"
   ]
  },
  {
   "cell_type": "code",
   "execution_count": null,
   "metadata": {},
   "outputs": [],
   "source": [
    "nb = False\n",
    "fname_suffix = \"Uni\" if uni else \"Work\"\n",
    "fname_suffix  += \"_Jnb\" if nb else \"_Py\"\n",
    "benchmark_col_name = \"Latency\"\n",
    "img_name = os.path.join(terminal_lat_img_save_folder_path,f\"{model_name}_{benchmark_col_name}_{fname_suffix}.png\")\n",
    "utils.generate_benchmark_plot(\n",
    "    model_name=model_name,\n",
    "    csv_folder_path=csv_folder_path,\n",
    "    uni=uni,\n",
    "    nb=nb,\n",
    "    save_path=img_name,\n",
    "    benchmark_col_name=benchmark_col_name,\n",
    "    invert=True\n",
    ")"
   ]
  },
  {
   "cell_type": "markdown",
   "metadata": {},
   "source": [
    "## Statistics"
   ]
  },
  {
   "cell_type": "code",
   "execution_count": null,
   "metadata": {},
   "outputs": [],
   "source": [
    "terminal_tx = utils.ordered_results(\"benchmark_results/MobileNetV3L/work\", uni = False, nb = False)"
   ]
  },
  {
   "cell_type": "code",
   "execution_count": null,
   "metadata": {},
   "outputs": [],
   "source": [
    "dataframe_gpu_dict = {'RTX_3090_TI': terminal_tx}\n",
    "csv_folder_path = \"benchmark_results\"\n",
    "benchmark_col_name = \"Throughput\"\n",
    "utils.concatenate_thrpt_latency_csv(benchmark_col_name, dataframe_gpu_dict, os.path.join(csv_folder_path, \"gpu_throughput_benchmark_py.csv\"))"
   ]
  },
  {
   "cell_type": "code",
   "execution_count": null,
   "metadata": {},
   "outputs": [],
   "source": [
    "dataframe_gpu_dict = {'RTX_3090_TI': terminal_tx}\n",
    "\n",
    "benchmark_col_name = \"Latency\"\n",
    "utils.concatenate_thrpt_latency_csv(benchmark_col_name, dataframe_gpu_dict, os.path.join(csv_folder_path, \"gpu_latency_benchmark_py.csv\"))"
   ]
  },
  {
   "cell_type": "markdown",
   "metadata": {},
   "source": [
    "## Work EMA"
   ]
  },
  {
   "cell_type": "markdown",
   "metadata": {},
   "source": [
    "#### NOTE here 0 represents GPU ID, if multiple gpu's are present, create a respective dictionary with key as gpu_id and values as the frameworks ran on that gpu id\n",
    "#### Also variables with nb suffixes or cells below JNB should be uncommented only if Benchmarking Jnbs are run"
   ]
  },
  {
   "cell_type": "markdown",
   "metadata": {},
   "source": [
    "### Final EMA csv Generation"
   ]
  },
  {
   "cell_type": "code",
   "execution_count": null,
   "metadata": {},
   "outputs": [],
   "source": [
    "work_gpu_ids = {0: ['onnxrt', 'keras', 'torch','TFTRTFP32', 'TFTRTFP16', 'tfxla', 'kerasxla', 'tf']}\n",
    "csv_folder_path = \"benchmark_results/MobileNetV3L/work/EMA_results/\"\n",
    "work_tx = utils.EMA_Process_folder(csv_folder_path,work_gpu_ids,uni = False, nb = False, v100=False)\n",
    "\n",
    "# work_nb = utils.EMA_Process_folder(csv_folder_path,work_gpu_ids,uni = False, nb = True, v100=False)"
   ]
  },
  {
   "cell_type": "markdown",
   "metadata": {},
   "source": [
    "### Py Energy, Time & Power Plot Generation"
   ]
  },
  {
   "cell_type": "code",
   "execution_count": null,
   "metadata": {},
   "outputs": [],
   "source": [
    "nb = False\n",
    "uni = False\n",
    "v100 = False\n",
    "fname_suffix = \"Uni\" if uni else \"Work\"\n",
    "fname_suffix  += \"_Jnb\" if nb else \"_Py\"\n",
    "benchmark_col_name = \"energy\"\n",
    "img_name = os.path.join(energy_save_folder_path,f\"{model_name}_{benchmark_col_name}_{fname_suffix}.png\")\n",
    "\n",
    "utils.EMA_Plotter(\n",
    "    model_name=model_name,\n",
    "    gpu_ids=work_gpu_ids,\n",
    "    csv_folder_path=csv_folder_path,\n",
    "    uni=uni,\n",
    "    nb=nb,\n",
    "    v100 = v100,\n",
    "    save_path=img_name,\n",
    "    benchmark_col_name=benchmark_col_name)\n",
    "\n",
    "benchmark_col_name = \"time\"\n",
    "img_name = os.path.join(time_save_folder_path,f\"{model_name}_{benchmark_col_name}_{fname_suffix}.png\")\n",
    "utils.EMA_Plotter(\n",
    "    model_name=model_name,\n",
    "    gpu_ids=work_gpu_ids,\n",
    "    csv_folder_path=csv_folder_path,\n",
    "    uni=uni,\n",
    "    nb=nb,\n",
    "    v100 = v100,\n",
    "    save_path=img_name,\n",
    "    benchmark_col_name=benchmark_col_name)\n",
    "\n",
    "benchmark_col_name = \"power_watts\"\n",
    "img_name = os.path.join(power_save_folder_path,f\"{model_name}_{benchmark_col_name}_{fname_suffix}.png\")\n",
    "utils.EMA_Plotter(\n",
    "    model_name=model_name,\n",
    "    gpu_ids=work_gpu_ids,\n",
    "    csv_folder_path=csv_folder_path,\n",
    "    uni=uni,\n",
    "    nb=nb,\n",
    "    v100 = v100,\n",
    "    save_path=img_name,\n",
    "    benchmark_col_name=benchmark_col_name,\n",
    "    invert = False)\n",
    "\n",
    "benchmark_col_name = \"energy_eff\"\n",
    "img_name = os.path.join(energy_save_folder_path,f\"{model_name}_{benchmark_col_name}_{fname_suffix}.png\")\n",
    "utils.EMA_Plotter(\n",
    "    model_name=model_name,\n",
    "    gpu_ids=work_gpu_ids,\n",
    "    csv_folder_path=csv_folder_path,\n",
    "    uni=uni,\n",
    "    nb=nb,\n",
    "    v100 = v100,\n",
    "    save_path=img_name,\n",
    "    benchmark_col_name=benchmark_col_name)\n",
    "\n",
    "## Not a meaningful metric\n",
    "# benchmark_col_name = \"power_eff\"\n",
    "# img_name = os.path.join(power_save_folder_path,f\"{model_name}_{benchmark_col_name}_{fname_suffix}.png\")\n",
    "# utils.EMA_Plotter(\n",
    "#     model_name=model_name,\n",
    "#     gpu_ids=work_gpu_ids,\n",
    "#     csv_folder_path=csv_folder_path,\n",
    "#     uni=uni,\n",
    "#     nb=nb,\n",
    "#     v100 = v100,\n",
    "#     save_path=img_name,\n",
    "#     benchmark_col_name=benchmark_col_name)"
   ]
  },
  {
   "cell_type": "markdown",
   "metadata": {},
   "source": [
    "### Jnb Energy, Time & Power Plot Generation"
   ]
  },
  {
   "cell_type": "code",
   "execution_count": null,
   "metadata": {},
   "outputs": [],
   "source": [
    "nb = True\n",
    "uni = False\n",
    "v100 = False\n",
    "fname_suffix = \"Uni_v100\" if uni else \"Work\"\n",
    "fname_suffix  += \"_Jnb\" if nb else \"_Py\"\n",
    "benchmark_col_name = \"energy\"\n",
    "img_name = os.path.join(nb_energy_save_folder_path,f\"{model_name}_{benchmark_col_name}_{fname_suffix}.png\")\n",
    "\n",
    "utils.EMA_Plotter(\n",
    "    model_name=model_name,\n",
    "    gpu_ids=work_gpu_ids,\n",
    "    csv_folder_path=csv_folder_path,\n",
    "    uni=uni,\n",
    "    nb=nb,\n",
    "    v100 = v100,\n",
    "    save_path=img_name,\n",
    "    benchmark_col_name=benchmark_col_name)\n",
    "\n",
    "benchmark_col_name = \"time\"\n",
    "img_name = os.path.join(nb_time_save_folder_path,f\"{model_name}_{benchmark_col_name}_{fname_suffix}.png\")\n",
    "utils.EMA_Plotter(\n",
    "    model_name=model_name,\n",
    "    gpu_ids=work_gpu_ids,\n",
    "    csv_folder_path=csv_folder_path,\n",
    "    uni=uni,\n",
    "    nb=nb,\n",
    "    v100 = v100,\n",
    "    save_path=img_name,\n",
    "    benchmark_col_name=benchmark_col_name)\n",
    "\n",
    "benchmark_col_name = \"power_watts\"\n",
    "img_name = os.path.join(nb_power_save_folder_path,f\"{model_name}_{benchmark_col_name}_{fname_suffix}.png\")\n",
    "\n",
    "utils.EMA_Plotter(\n",
    "    model_name=model_name,\n",
    "    gpu_ids=work_gpu_ids,\n",
    "    csv_folder_path=csv_folder_path,\n",
    "    uni=uni,\n",
    "    nb=nb,\n",
    "    v100 = v100,\n",
    "    save_path=img_name,\n",
    "    benchmark_col_name=benchmark_col_name,invert=False)\n",
    "\n",
    "benchmark_col_name = \"energy_eff\"\n",
    "img_name = os.path.join(nb_energy_save_folder_path,f\"{model_name}_{benchmark_col_name}_{fname_suffix}.png\")\n",
    "utils.EMA_Plotter(\n",
    "    model_name=model_name,\n",
    "    gpu_ids=work_gpu_ids,\n",
    "    csv_folder_path=csv_folder_path,\n",
    "    uni=uni,\n",
    "    nb=nb,\n",
    "    v100 = v100,\n",
    "    save_path=img_name,\n",
    "    benchmark_col_name=benchmark_col_name)\n",
    "\n",
    "## Not a meaningful metric\n",
    "# benchmark_col_name = \"power_eff\"\n",
    "# img_name = os.path.join(nb_power_save_folder_path,f\"{model_name}_{benchmark_col_name}_{fname_suffix}.png\")\n",
    "# utils.EMA_Plotter(\n",
    "#     model_name=model_name,\n",
    "#     gpu_ids=work_gpu_ids,\n",
    "#     csv_folder_path=csv_folder_path,\n",
    "#     uni=uni,\n",
    "#     nb=nb,\n",
    "#     v100 = v100,\n",
    "#     save_path=img_name,\n",
    "#     benchmark_col_name=benchmark_col_name)"
   ]
  },
  {
   "cell_type": "markdown",
   "metadata": {},
   "source": [
    "## GPU Wise EMA Plots"
   ]
  },
  {
   "cell_type": "code",
   "execution_count": null,
   "metadata": {},
   "outputs": [],
   "source": [
    "# csv = \"benchmark_results/MobileNetV3L/work/EMA_results/EMA_work_jnb_final.csv\"\n",
    "# benchmark_folder = \"benchmark_results/MobileNetV3L/work\"\n",
    "# jnb_tx = utils.merge_benchmarks_ema_files(csv,benchmark_folder,uni =False, nb = True, v100 = False, gpu_name=\"RTX_3090_TI\")"
   ]
  },
  {
   "cell_type": "code",
   "execution_count": null,
   "metadata": {},
   "outputs": [],
   "source": [
    "csv = \"benchmark_results/MobileNetV3L/work/EMA_results/EMA_work_py_final.csv\"\n",
    "benchmark_folder = \"benchmark_results/MobileNetV3L/work\"\n",
    "py_tx = utils.merge_benchmarks_ema_files(csv,benchmark_folder,uni =False, nb = False, v100 = False, gpu_name=\"RTX_3090_TI\")\n"
   ]
  },
  {
   "cell_type": "code",
   "execution_count": null,
   "metadata": {},
   "outputs": [],
   "source": [
    "\n",
    "combined_terminal_gpus = pd.concat([py_tx], axis = 0)\n",
    "# combined_nb_gpus = pd.concat([jnb_tx], axis = 0)"
   ]
  },
  {
   "cell_type": "markdown",
   "metadata": {},
   "source": [
    "#### **NOTE** Don't run the below cell 2 times, as the scaling gets messed up. \n",
    "If ran 2 times, rexecute all cells in this section of GPU Wise EMA Plots"
   ]
  },
  {
   "cell_type": "code",
   "execution_count": null,
   "metadata": {},
   "outputs": [],
   "source": [
    "\n",
    "combined_terminal_gpus['ema_energy_joules'] = (combined_terminal_gpus['energy']/1e6)\n",
    "combined_terminal_gpus['ema_time_sec'] = (combined_terminal_gpus['time']/1e6)\n",
    "\n",
    "# combined_nb_gpus['ema_energy_joules'] = (combined_nb_gpus['energy']/1e6)\n",
    "# combined_nb_gpus['ema_time_sec'] = (combined_nb_gpus['time']/1e6)\n",
    "\n",
    "\n",
    "combined_terminal_gpus['ema_energy_x_time_joulsec'] = (combined_terminal_gpus['energy']/1e6)*(combined_terminal_gpus['time']/1e6)\n",
    "# combined_nb_gpus['ema_energy_x_time_joulsec'] = (combined_nb_gpus['energy']/1e6)*(combined_nb_gpus['time']/1e6)\n",
    "\n",
    "\n",
    "combined_terminal_gpus.to_csv(\"benchmark_results/py_all_benchmarks.csv\")\n",
    "# combined_nb_gpus.to_csv(\"benchmark_results/nb_all_benchmarks.csv\")"
   ]
  },
  {
   "cell_type": "code",
   "execution_count": null,
   "metadata": {},
   "outputs": [],
   "source": [
    "# Save the data in pivoted format\n",
    "utils.concatenate_cols(combined_terminal_gpus, \"power_watts\", \"benchmark_results/gpu_plots/combined_csvs/py_power.csv\")\n",
    "# utils.concatenate_cols(combined_nb_gpus, \"power_watts\", \"benchmark_results/gpu_plots/combined_csvs/nb_power.csv\")\n",
    "utils.concatenate_cols(combined_terminal_gpus, \"energy\", \"benchmark_results/gpu_plots/combined_csvs/py_energy.csv\")\n",
    "# utils.concatenate_cols(combined_nb_gpus, \"energy\", \"benchmark_results/gpu_plots/combined_csvs/nb_energy.csv\")\n",
    "utils.concatenate_cols(combined_terminal_gpus, \"time\", \"benchmark_results/gpu_plots/combined_csvs/py_time.csv\")\n",
    "# utils.concatenate_cols(combined_nb_gpus, \"time\", \"benchmark_results/gpu_plots/combined_csvs/nb_time.csv\")\n",
    "\n",
    "utils.concatenate_cols(combined_terminal_gpus, \"ema_energy_x_time_joulsec\", \"benchmark_results/gpu_plots/combined_csvs/py_energyxtime.csv\")\n",
    "# utils.concatenate_cols(combined_nb_gpus, \"ema_energy_x_time_joulsec\", \"benchmark_results/gpu_plots/combined_csvs/nb_energyxtime.csv\")"
   ]
  },
  {
   "cell_type": "code",
   "execution_count": null,
   "metadata": {},
   "outputs": [],
   "source": [
    "utils.gpu_plotter(combined_terminal_gpus,benchmark_col_name=\"energy\",model_name=model_name, save_folder =\"benchmark_results/gpu_plots/energy_plots\")\n",
    "utils.gpu_plotter(combined_terminal_gpus,benchmark_col_name=\"energy_eff\",model_name=model_name, save_folder =\"benchmark_results/gpu_plots/energy_eff_plots\")"
   ]
  },
  {
   "cell_type": "code",
   "execution_count": null,
   "metadata": {},
   "outputs": [],
   "source": [
    "utils.gpu_plotter(combined_terminal_gpus,benchmark_col_name=\"time\",model_name=model_name, save_folder =\"benchmark_results/gpu_plots/time_plots\")\n",
    "\n",
    "## Not a meaningful plot\n",
    "# utils.gpu_plotter(combined_terminal_gpus,benchmark_col_name=\"time_eff\",model_name=model_name, save_folder =\"benchmark_results/gpu_plots/time_eff_plots\")"
   ]
  },
  {
   "cell_type": "code",
   "execution_count": null,
   "metadata": {},
   "outputs": [],
   "source": [
    "utils.gpu_plotter(combined_terminal_gpus,benchmark_col_name=\"power_watts\",model_name=model_name, save_folder =\"benchmark_results/gpu_plots/power_plots\")\n",
    "# # Not a meaningful plot\n",
    "# utils.gpu_plotter(combined_terminal_gpus,benchmark_col_name=\"power_eff\",model_name=model_name, save_folder =\"benchmark_results/gpu_plots/power_eff_plots\")"
   ]
  },
  {
   "cell_type": "code",
   "execution_count": null,
   "metadata": {},
   "outputs": [],
   "source": [
    "utils.gpu_plotter(combined_terminal_gpus,benchmark_col_name=\"Throughput\",model_name=model_name, save_folder =\"benchmark_results/gpu_plots/throughput_plots\")\n",
    "\n",
    "utils.gpu_plotter(combined_terminal_gpus,benchmark_col_name=\"Latency\",model_name=model_name, save_folder =\"benchmark_results/gpu_plots/latency_plots\")"
   ]
  },
  {
   "cell_type": "code",
   "execution_count": null,
   "metadata": {},
   "outputs": [],
   "source": [
    "utils.gpu_plotter(combined_terminal_gpus,benchmark_col_name=\"ema_energy_x_time_joulsec\",model_name=model_name, save_folder =\"benchmark_results/gpu_plots/energy_x_time_plots\")"
   ]
  },
  {
   "cell_type": "markdown",
   "metadata": {},
   "source": [
    "## Final Documentation Plots"
   ]
  },
  {
   "cell_type": "code",
   "execution_count": null,
   "metadata": {},
   "outputs": [],
   "source": [
    "csv_path =\"benchmark_results/py_all_benchmarks.csv\"\n",
    "save_dir = \"benchmark_results/Power_Thrpt_plots\"\n"
   ]
  },
  {
   "cell_type": "code",
   "execution_count": null,
   "metadata": {},
   "outputs": [],
   "source": [
    "utils.ema_power_vs_thrpt_plot(csv_path, save_dir)"
   ]
  }
 ],
 "metadata": {
  "kernelspec": {
   "display_name": "Python 3",
   "language": "python",
   "name": "python3"
  },
  "language_info": {
   "codemirror_mode": {
    "name": "ipython",
    "version": 3
   },
   "file_extension": ".py",
   "mimetype": "text/x-python",
   "name": "python",
   "nbconvert_exporter": "python",
   "pygments_lexer": "ipython3",
   "version": "3.9.19"
  },
  "orig_nbformat": 4
 },
 "nbformat": 4,
 "nbformat_minor": 2
}
